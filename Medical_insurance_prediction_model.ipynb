{
 "cells": [
  {
   "cell_type": "markdown",
   "id": "28fa9766",
   "metadata": {},
   "source": [
    "# Medical insurance dataset"
   ]
  },
  {
   "cell_type": "markdown",
   "id": "84e0e070",
   "metadata": {},
   "source": [
    "###### Submitted by: Leen Alnajjar"
   ]
  },
  {
   "cell_type": "markdown",
   "id": "ec0af10d",
   "metadata": {},
   "source": [
    "# Data science part "
   ]
  },
  {
   "cell_type": "markdown",
   "id": "d399c316",
   "metadata": {},
   "source": [
    "## Step one: Data understanding and reading:"
   ]
  },
  {
   "cell_type": "markdown",
   "id": "c2d9afa6",
   "metadata": {},
   "source": [
    "### 1. Libraries importing: "
   ]
  },
  {
   "cell_type": "code",
   "execution_count": 273,
   "id": "dff9b4be",
   "metadata": {},
   "outputs": [],
   "source": [
    "import numpy as np\n",
    "import pandas as pd\n",
    "import matplotlib.pyplot as plt\n",
    "from pandas.api.types import infer_dtype\n",
    "import warnings\n",
    "from sklearn.preprocessing import LabelEncoder\n",
    "from tabulate import tabulate\n",
    "from sklearn.model_selection import train_test_split\n",
    "from sklearn.linear_model import LinearRegression\n",
    "import statsmodels.api as sm\n",
    "import sklearn.metrics as acc\n",
    "warnings.filterwarnings('ignore')"
   ]
  },
  {
   "cell_type": "markdown",
   "id": "49450e0e",
   "metadata": {},
   "source": [
    "### 2. Data presentation:"
   ]
  },
  {
   "cell_type": "code",
   "execution_count": 176,
   "id": "ba7a2856",
   "metadata": {},
   "outputs": [],
   "source": [
    "cols=['patientid','age','sex','bmi','children','smoker','region','charges']\n",
    "dataset=pd.read_csv('meddical_insurance.csv',usecols =[col for col in cols if col != 'patientid'])"
   ]
  },
  {
   "cell_type": "code",
   "execution_count": 6,
   "id": "c3ae8573",
   "metadata": {},
   "outputs": [
    {
     "data": {
      "text/html": [
       "<div>\n",
       "<style scoped>\n",
       "    .dataframe tbody tr th:only-of-type {\n",
       "        vertical-align: middle;\n",
       "    }\n",
       "\n",
       "    .dataframe tbody tr th {\n",
       "        vertical-align: top;\n",
       "    }\n",
       "\n",
       "    .dataframe thead th {\n",
       "        text-align: right;\n",
       "    }\n",
       "</style>\n",
       "<table border=\"1\" class=\"dataframe\">\n",
       "  <thead>\n",
       "    <tr style=\"text-align: right;\">\n",
       "      <th></th>\n",
       "      <th>age</th>\n",
       "      <th>sex</th>\n",
       "      <th>bmi</th>\n",
       "      <th>children</th>\n",
       "      <th>smoker</th>\n",
       "      <th>region</th>\n",
       "      <th>charges</th>\n",
       "    </tr>\n",
       "  </thead>\n",
       "  <tbody>\n",
       "    <tr>\n",
       "      <th>0</th>\n",
       "      <td>19</td>\n",
       "      <td>female</td>\n",
       "      <td>27.9</td>\n",
       "      <td>0</td>\n",
       "      <td>yes</td>\n",
       "      <td>southwest</td>\n",
       "      <td>16884.92</td>\n",
       "    </tr>\n",
       "    <tr>\n",
       "      <th>1</th>\n",
       "      <td>18</td>\n",
       "      <td>male</td>\n",
       "      <td>33.8</td>\n",
       "      <td>1</td>\n",
       "      <td>no</td>\n",
       "      <td>southeast</td>\n",
       "      <td>1725.55</td>\n",
       "    </tr>\n",
       "    <tr>\n",
       "      <th>2</th>\n",
       "      <td>28</td>\n",
       "      <td>male</td>\n",
       "      <td>33.0</td>\n",
       "      <td>3</td>\n",
       "      <td>no</td>\n",
       "      <td>southeast</td>\n",
       "      <td>4449.46</td>\n",
       "    </tr>\n",
       "    <tr>\n",
       "      <th>3</th>\n",
       "      <td>33</td>\n",
       "      <td>male</td>\n",
       "      <td>22.7</td>\n",
       "      <td>0</td>\n",
       "      <td>no</td>\n",
       "      <td>northwest</td>\n",
       "      <td>21984.47</td>\n",
       "    </tr>\n",
       "    <tr>\n",
       "      <th>4</th>\n",
       "      <td>32</td>\n",
       "      <td>male</td>\n",
       "      <td>28.9</td>\n",
       "      <td>0</td>\n",
       "      <td>no</td>\n",
       "      <td>northwest</td>\n",
       "      <td>3866.86</td>\n",
       "    </tr>\n",
       "  </tbody>\n",
       "</table>\n",
       "</div>"
      ],
      "text/plain": [
       "   age     sex   bmi  children smoker     region   charges\n",
       "0   19  female  27.9         0    yes  southwest  16884.92\n",
       "1   18    male  33.8         1     no  southeast   1725.55\n",
       "2   28    male  33.0         3     no  southeast   4449.46\n",
       "3   33    male  22.7         0     no  northwest  21984.47\n",
       "4   32    male  28.9         0     no  northwest   3866.86"
      ]
     },
     "execution_count": 6,
     "metadata": {},
     "output_type": "execute_result"
    }
   ],
   "source": [
    "dataset.head()"
   ]
  },
  {
   "cell_type": "markdown",
   "id": "a2bf91d8",
   "metadata": {},
   "source": [
    "### 3. Data understanding:"
   ]
  },
  {
   "cell_type": "code",
   "execution_count": 23,
   "id": "098bec3f",
   "metadata": {},
   "outputs": [
    {
     "name": "stdout",
     "output_type": "stream",
     "text": [
      "<class 'pandas.core.frame.DataFrame'>\n",
      "RangeIndex: 1338 entries, 0 to 1337\n",
      "Data columns (total 7 columns):\n",
      " #   Column    Non-Null Count  Dtype  \n",
      "---  ------    --------------  -----  \n",
      " 0   age       1338 non-null   int64  \n",
      " 1   sex       1338 non-null   object \n",
      " 2   bmi       1338 non-null   float64\n",
      " 3   children  1338 non-null   int64  \n",
      " 4   smoker    1338 non-null   object \n",
      " 5   region    1338 non-null   object \n",
      " 6   charges   1338 non-null   float64\n",
      "dtypes: float64(2), int64(2), object(3)\n",
      "memory usage: 73.3+ KB\n"
     ]
    }
   ],
   "source": [
    "#Check the info of the dataset:\n",
    "info=dataset.info() #Four obejects are in the file\n",
    "\n",
    "#Check the null values:\n",
    "null=dataset.isnull().sum()\n",
    "\n",
    "#Check the duplicated values:\n",
    "duplicate=dataset.duplicated().sum() \n",
    "\n",
    "#Check the mixed data type:\n",
    "mixed=dataset.apply(lambda x: 'mixed' in infer_dtype(x)) \n",
    "\n",
    "#Check unique values\n",
    "unique=dataset.iloc[:,:].nunique()\n",
    "\n",
    "#Check the white spaces\n",
    "whitespaces=dataset.columns.tolist() "
   ]
  },
  {
   "cell_type": "markdown",
   "id": "2f378437",
   "metadata": {},
   "source": [
    "### 4. conclusion of step one:"
   ]
  },
  {
   "cell_type": "markdown",
   "id": "0085e187",
   "metadata": {},
   "source": [
    "Based on the above analysis, it can be concluded that the data contains 1339 records, seven features, and one output label data\n",
    "the following information was extracted from the data:\n",
    "1. Non null or duplicated data was found through the analysis. \n",
    "2. There were three columns with string values (region, sex,and smoker).\n",
    "3. No mixed data type was found.\n",
    "4. No problem regarding white spaces in the headers was found. \n",
    "5. The only problem that need to be solved is the categorical data problem."
   ]
  },
  {
   "cell_type": "markdown",
   "id": "38a64669",
   "metadata": {},
   "source": [
    "## Step two: Statistical analysis"
   ]
  },
  {
   "cell_type": "markdown",
   "id": "634b733e",
   "metadata": {},
   "source": [
    "As a part of the analysis, the data were statistically analyzed, and then to illustrate the outliers, the box plot was used. "
   ]
  },
  {
   "cell_type": "markdown",
   "id": "b0af6937",
   "metadata": {},
   "source": [
    "### 1. Describe and sumarize the data statistically:"
   ]
  },
  {
   "cell_type": "markdown",
   "id": "c999069c",
   "metadata": {},
   "source": [
    "The data were statistically analyzed in order to find the maximum, minimum, and average of each feature, the following observations were obtained:\n",
    "\n",
    "1.The average recorded age was 39 years.\n",
    "\n",
    "2.The average BMI was 30, the maximum and the minmum were 53, 16 respectively. \n",
    "\n",
    "3.The average charges was 13270 and the maximum was 63770. "
   ]
  },
  {
   "cell_type": "code",
   "execution_count": 24,
   "id": "87d3354d",
   "metadata": {},
   "outputs": [
    {
     "data": {
      "text/html": [
       "<div>\n",
       "<style scoped>\n",
       "    .dataframe tbody tr th:only-of-type {\n",
       "        vertical-align: middle;\n",
       "    }\n",
       "\n",
       "    .dataframe tbody tr th {\n",
       "        vertical-align: top;\n",
       "    }\n",
       "\n",
       "    .dataframe thead th {\n",
       "        text-align: right;\n",
       "    }\n",
       "</style>\n",
       "<table border=\"1\" class=\"dataframe\">\n",
       "  <thead>\n",
       "    <tr style=\"text-align: right;\">\n",
       "      <th></th>\n",
       "      <th>age</th>\n",
       "      <th>bmi</th>\n",
       "      <th>children</th>\n",
       "      <th>charges</th>\n",
       "    </tr>\n",
       "  </thead>\n",
       "  <tbody>\n",
       "    <tr>\n",
       "      <th>count</th>\n",
       "      <td>1338.000000</td>\n",
       "      <td>1338.000000</td>\n",
       "      <td>1338.000000</td>\n",
       "      <td>1338.000000</td>\n",
       "    </tr>\n",
       "    <tr>\n",
       "      <th>mean</th>\n",
       "      <td>39.207025</td>\n",
       "      <td>30.665471</td>\n",
       "      <td>1.094918</td>\n",
       "      <td>13270.422414</td>\n",
       "    </tr>\n",
       "    <tr>\n",
       "      <th>std</th>\n",
       "      <td>14.049960</td>\n",
       "      <td>6.098382</td>\n",
       "      <td>1.205493</td>\n",
       "      <td>12110.011240</td>\n",
       "    </tr>\n",
       "    <tr>\n",
       "      <th>min</th>\n",
       "      <td>18.000000</td>\n",
       "      <td>16.000000</td>\n",
       "      <td>0.000000</td>\n",
       "      <td>1121.870000</td>\n",
       "    </tr>\n",
       "    <tr>\n",
       "      <th>25%</th>\n",
       "      <td>27.000000</td>\n",
       "      <td>26.300000</td>\n",
       "      <td>0.000000</td>\n",
       "      <td>4740.287500</td>\n",
       "    </tr>\n",
       "    <tr>\n",
       "      <th>50%</th>\n",
       "      <td>39.000000</td>\n",
       "      <td>30.400000</td>\n",
       "      <td>1.000000</td>\n",
       "      <td>9382.030000</td>\n",
       "    </tr>\n",
       "    <tr>\n",
       "      <th>75%</th>\n",
       "      <td>51.000000</td>\n",
       "      <td>34.700000</td>\n",
       "      <td>2.000000</td>\n",
       "      <td>16639.915000</td>\n",
       "    </tr>\n",
       "    <tr>\n",
       "      <th>max</th>\n",
       "      <td>64.000000</td>\n",
       "      <td>53.100000</td>\n",
       "      <td>5.000000</td>\n",
       "      <td>63770.430000</td>\n",
       "    </tr>\n",
       "  </tbody>\n",
       "</table>\n",
       "</div>"
      ],
      "text/plain": [
       "               age          bmi     children       charges\n",
       "count  1338.000000  1338.000000  1338.000000   1338.000000\n",
       "mean     39.207025    30.665471     1.094918  13270.422414\n",
       "std      14.049960     6.098382     1.205493  12110.011240\n",
       "min      18.000000    16.000000     0.000000   1121.870000\n",
       "25%      27.000000    26.300000     0.000000   4740.287500\n",
       "50%      39.000000    30.400000     1.000000   9382.030000\n",
       "75%      51.000000    34.700000     2.000000  16639.915000\n",
       "max      64.000000    53.100000     5.000000  63770.430000"
      ]
     },
     "execution_count": 24,
     "metadata": {},
     "output_type": "execute_result"
    }
   ],
   "source": [
    "dataset.describe() "
   ]
  },
  {
   "cell_type": "code",
   "execution_count": 33,
   "id": "d3b95410",
   "metadata": {},
   "outputs": [
    {
     "data": {
      "text/html": [
       "<div>\n",
       "<style scoped>\n",
       "    .dataframe tbody tr th:only-of-type {\n",
       "        vertical-align: middle;\n",
       "    }\n",
       "\n",
       "    .dataframe tbody tr th {\n",
       "        vertical-align: top;\n",
       "    }\n",
       "\n",
       "    .dataframe thead th {\n",
       "        text-align: right;\n",
       "    }\n",
       "</style>\n",
       "<table border=\"1\" class=\"dataframe\">\n",
       "  <thead>\n",
       "    <tr style=\"text-align: right;\">\n",
       "      <th></th>\n",
       "      <th>sex</th>\n",
       "      <th>smoker</th>\n",
       "      <th>region</th>\n",
       "    </tr>\n",
       "  </thead>\n",
       "  <tbody>\n",
       "    <tr>\n",
       "      <th>count</th>\n",
       "      <td>1338</td>\n",
       "      <td>1338</td>\n",
       "      <td>1338</td>\n",
       "    </tr>\n",
       "    <tr>\n",
       "      <th>unique</th>\n",
       "      <td>2</td>\n",
       "      <td>2</td>\n",
       "      <td>4</td>\n",
       "    </tr>\n",
       "    <tr>\n",
       "      <th>top</th>\n",
       "      <td>male</td>\n",
       "      <td>no</td>\n",
       "      <td>southeast</td>\n",
       "    </tr>\n",
       "    <tr>\n",
       "      <th>freq</th>\n",
       "      <td>676</td>\n",
       "      <td>1064</td>\n",
       "      <td>364</td>\n",
       "    </tr>\n",
       "  </tbody>\n",
       "</table>\n",
       "</div>"
      ],
      "text/plain": [
       "         sex smoker     region\n",
       "count   1338   1338       1338\n",
       "unique     2      2          4\n",
       "top     male     no  southeast\n",
       "freq     676   1064        364"
      ]
     },
     "execution_count": 33,
     "metadata": {},
     "output_type": "execute_result"
    }
   ],
   "source": [
    "dataset.describe(include=[np.object])"
   ]
  },
  {
   "cell_type": "markdown",
   "id": "4e565780",
   "metadata": {},
   "source": [
    "### 2. Describe and sumarize the data using boxplot:"
   ]
  },
  {
   "cell_type": "markdown",
   "id": "f7fbb29c",
   "metadata": {},
   "source": [
    "To extensively illustrate the information regarding the data, the boxplot was used to exhibit the outliers and provide a clear comparison between each group."
   ]
  },
  {
   "cell_type": "code",
   "execution_count": 108,
   "id": "b3ee4acd",
   "metadata": {},
   "outputs": [
    {
     "data": {
      "image/png": "[encoded data removed]",
      "text/plain": [
       "<Figure size 432x288 with 1 Axes>"
      ]
     },
     "metadata": {},
     "output_type": "display_data"
    }
   ],
   "source": [
    "sns.boxplot(x=\"sex\", y=\"charges\", data=dataset , width=0.5)\n",
    "plt.show()"
   ]
  },
  {
   "cell_type": "code",
   "execution_count": 109,
   "id": "3cdd9bff",
   "metadata": {},
   "outputs": [
    {
     "data": {
      "image/png": "[encoded data removed]",
      "text/plain": [
       "<Figure size 432x288 with 1 Axes>"
      ]
     },
     "metadata": {},
     "output_type": "display_data"
    }
   ],
   "source": [
    "sns.boxplot(x=\"smoker\", y=\"charges\", data=dataset, width=0.5)\n",
    "plt.show()"
   ]
  },
  {
   "cell_type": "code",
   "execution_count": 112,
   "id": "f014c53d",
   "metadata": {},
   "outputs": [
    {
     "data": {
      "image/png": "[encoded data removed]",
      "text/plain": [
       "<Figure size 432x288 with 1 Axes>"
      ]
     },
     "metadata": {},
     "output_type": "display_data"
    }
   ],
   "source": [
    "sns.boxplot(x=\"children\", y=\"charges\", data=dataset, width=0.5)\n",
    "plt.show()"
   ]
  },
  {
   "cell_type": "code",
   "execution_count": 127,
   "id": "31bae990",
   "metadata": {},
   "outputs": [
    {
     "data": {
      "image/png": "[encoded data removed]",
      "text/plain": [
       "<Figure size 432x288 with 1 Axes>"
      ]
     },
     "metadata": {},
     "output_type": "display_data"
    }
   ],
   "source": [
    "sns.boxplot(x=\"region\", y=\"charges\", data=dataset, width=0.5)\n",
    "plt.show()"
   ]
  },
  {
   "cell_type": "markdown",
   "id": "45e2ce05",
   "metadata": {},
   "source": [
    "### 3. conclusion of step two:"
   ]
  },
  {
   "cell_type": "markdown",
   "id": "58ddf1e9",
   "metadata": {},
   "source": [
    "Based on the above results, it can be concluded that the region has insignificant effect on the medical charges, on the other hand the smokers has fascinating impact of increasing the charges.\n"
   ]
  },
  {
   "cell_type": "markdown",
   "id": "cf62e915",
   "metadata": {},
   "source": [
    "## Step three: Data pre-processing "
   ]
  },
  {
   "cell_type": "markdown",
   "id": "422387f4",
   "metadata": {},
   "source": [
    "As mentioned earlier, the data contains three features of data type categorical, and this problem need to be solved in order to build machine learning model and visualize the data. "
   ]
  },
  {
   "cell_type": "markdown",
   "id": "8e9ab987",
   "metadata": {},
   "source": [
    "### 1. Solve the categorical data problem:"
   ]
  },
  {
   "cell_type": "markdown",
   "id": "ce580608",
   "metadata": {},
   "source": [
    "The gender, region and smoker all of them has categorical data type , both gender and smoker can be solved using label encoder, while on the other hand the region problem was solved using get dummies. "
   ]
  },
  {
   "cell_type": "code",
   "execution_count": 142,
   "id": "d132e060",
   "metadata": {},
   "outputs": [],
   "source": [
    "#Label encoding the sex column:\n",
    "labelencoder=LabelEncoder() #Object defined\n",
    "dataset['sex']=labelencoder.fit_transform(dataset['sex'])"
   ]
  },
  {
   "cell_type": "code",
   "execution_count": 143,
   "id": "922bf94c",
   "metadata": {},
   "outputs": [],
   "source": [
    "#Label encoding the smoker column:\n",
    "labelencoder=LabelEncoder() #Object defined\n",
    "dataset['smoker']=labelencoder.fit_transform(dataset['smoker'])"
   ]
  },
  {
   "cell_type": "code",
   "execution_count": 144,
   "id": "b81c8a35",
   "metadata": {},
   "outputs": [],
   "source": [
    "#Encoding the region column:\n",
    "data_encoded=pd.get_dummies(data=dataset['region'],drop_first=True)\n",
    "merged = pd.concat([dataset,data_encoded],axis=1)\n",
    "data = merged.drop(['region'], axis=1)"
   ]
  },
  {
   "cell_type": "code",
   "execution_count": 145,
   "id": "d395fe22",
   "metadata": {},
   "outputs": [
    {
     "data": {
      "text/html": [
       "<div>\n",
       "<style scoped>\n",
       "    .dataframe tbody tr th:only-of-type {\n",
       "        vertical-align: middle;\n",
       "    }\n",
       "\n",
       "    .dataframe tbody tr th {\n",
       "        vertical-align: top;\n",
       "    }\n",
       "\n",
       "    .dataframe thead th {\n",
       "        text-align: right;\n",
       "    }\n",
       "</style>\n",
       "<table border=\"1\" class=\"dataframe\">\n",
       "  <thead>\n",
       "    <tr style=\"text-align: right;\">\n",
       "      <th></th>\n",
       "      <th>age</th>\n",
       "      <th>sex</th>\n",
       "      <th>bmi</th>\n",
       "      <th>children</th>\n",
       "      <th>smoker</th>\n",
       "      <th>charges</th>\n",
       "      <th>northwest</th>\n",
       "      <th>southeast</th>\n",
       "      <th>southwest</th>\n",
       "    </tr>\n",
       "  </thead>\n",
       "  <tbody>\n",
       "    <tr>\n",
       "      <th>0</th>\n",
       "      <td>19</td>\n",
       "      <td>0</td>\n",
       "      <td>27.9</td>\n",
       "      <td>0</td>\n",
       "      <td>1</td>\n",
       "      <td>16884.92</td>\n",
       "      <td>0</td>\n",
       "      <td>0</td>\n",
       "      <td>1</td>\n",
       "    </tr>\n",
       "    <tr>\n",
       "      <th>1</th>\n",
       "      <td>18</td>\n",
       "      <td>1</td>\n",
       "      <td>33.8</td>\n",
       "      <td>1</td>\n",
       "      <td>0</td>\n",
       "      <td>1725.55</td>\n",
       "      <td>0</td>\n",
       "      <td>1</td>\n",
       "      <td>0</td>\n",
       "    </tr>\n",
       "    <tr>\n",
       "      <th>2</th>\n",
       "      <td>28</td>\n",
       "      <td>1</td>\n",
       "      <td>33.0</td>\n",
       "      <td>3</td>\n",
       "      <td>0</td>\n",
       "      <td>4449.46</td>\n",
       "      <td>0</td>\n",
       "      <td>1</td>\n",
       "      <td>0</td>\n",
       "    </tr>\n",
       "    <tr>\n",
       "      <th>3</th>\n",
       "      <td>33</td>\n",
       "      <td>1</td>\n",
       "      <td>22.7</td>\n",
       "      <td>0</td>\n",
       "      <td>0</td>\n",
       "      <td>21984.47</td>\n",
       "      <td>1</td>\n",
       "      <td>0</td>\n",
       "      <td>0</td>\n",
       "    </tr>\n",
       "    <tr>\n",
       "      <th>4</th>\n",
       "      <td>32</td>\n",
       "      <td>1</td>\n",
       "      <td>28.9</td>\n",
       "      <td>0</td>\n",
       "      <td>0</td>\n",
       "      <td>3866.86</td>\n",
       "      <td>1</td>\n",
       "      <td>0</td>\n",
       "      <td>0</td>\n",
       "    </tr>\n",
       "    <tr>\n",
       "      <th>...</th>\n",
       "      <td>...</td>\n",
       "      <td>...</td>\n",
       "      <td>...</td>\n",
       "      <td>...</td>\n",
       "      <td>...</td>\n",
       "      <td>...</td>\n",
       "      <td>...</td>\n",
       "      <td>...</td>\n",
       "      <td>...</td>\n",
       "    </tr>\n",
       "    <tr>\n",
       "      <th>1333</th>\n",
       "      <td>50</td>\n",
       "      <td>1</td>\n",
       "      <td>31.0</td>\n",
       "      <td>3</td>\n",
       "      <td>0</td>\n",
       "      <td>10600.55</td>\n",
       "      <td>1</td>\n",
       "      <td>0</td>\n",
       "      <td>0</td>\n",
       "    </tr>\n",
       "    <tr>\n",
       "      <th>1334</th>\n",
       "      <td>18</td>\n",
       "      <td>0</td>\n",
       "      <td>31.9</td>\n",
       "      <td>0</td>\n",
       "      <td>0</td>\n",
       "      <td>2205.98</td>\n",
       "      <td>0</td>\n",
       "      <td>0</td>\n",
       "      <td>0</td>\n",
       "    </tr>\n",
       "    <tr>\n",
       "      <th>1335</th>\n",
       "      <td>18</td>\n",
       "      <td>0</td>\n",
       "      <td>36.9</td>\n",
       "      <td>0</td>\n",
       "      <td>0</td>\n",
       "      <td>1629.83</td>\n",
       "      <td>0</td>\n",
       "      <td>1</td>\n",
       "      <td>0</td>\n",
       "    </tr>\n",
       "    <tr>\n",
       "      <th>1336</th>\n",
       "      <td>21</td>\n",
       "      <td>0</td>\n",
       "      <td>25.8</td>\n",
       "      <td>0</td>\n",
       "      <td>0</td>\n",
       "      <td>2007.95</td>\n",
       "      <td>0</td>\n",
       "      <td>0</td>\n",
       "      <td>1</td>\n",
       "    </tr>\n",
       "    <tr>\n",
       "      <th>1337</th>\n",
       "      <td>61</td>\n",
       "      <td>0</td>\n",
       "      <td>29.1</td>\n",
       "      <td>0</td>\n",
       "      <td>1</td>\n",
       "      <td>29141.36</td>\n",
       "      <td>1</td>\n",
       "      <td>0</td>\n",
       "      <td>0</td>\n",
       "    </tr>\n",
       "  </tbody>\n",
       "</table>\n",
       "<p>1338 rows × 9 columns</p>\n",
       "</div>"
      ],
      "text/plain": [
       "      age  sex   bmi  children  smoker   charges  northwest  southeast  \\\n",
       "0      19    0  27.9         0       1  16884.92          0          0   \n",
       "1      18    1  33.8         1       0   1725.55          0          1   \n",
       "2      28    1  33.0         3       0   4449.46          0          1   \n",
       "3      33    1  22.7         0       0  21984.47          1          0   \n",
       "4      32    1  28.9         0       0   3866.86          1          0   \n",
       "...   ...  ...   ...       ...     ...       ...        ...        ...   \n",
       "1333   50    1  31.0         3       0  10600.55          1          0   \n",
       "1334   18    0  31.9         0       0   2205.98          0          0   \n",
       "1335   18    0  36.9         0       0   1629.83          0          1   \n",
       "1336   21    0  25.8         0       0   2007.95          0          0   \n",
       "1337   61    0  29.1         0       1  29141.36          1          0   \n",
       "\n",
       "      southwest  \n",
       "0             1  \n",
       "1             0  \n",
       "2             0  \n",
       "3             0  \n",
       "4             0  \n",
       "...         ...  \n",
       "1333          0  \n",
       "1334          0  \n",
       "1335          0  \n",
       "1336          1  \n",
       "1337          0  \n",
       "\n",
       "[1338 rows x 9 columns]"
      ]
     },
     "execution_count": 145,
     "metadata": {},
     "output_type": "execute_result"
    }
   ],
   "source": [
    "data"
   ]
  },
  {
   "cell_type": "markdown",
   "id": "c352774d",
   "metadata": {},
   "source": [
    "### 2.Data visualization:"
   ]
  },
  {
   "cell_type": "markdown",
   "id": "5748c71b",
   "metadata": {},
   "source": [
    "Through the data visualization, the light was spot on the most important factors that led to an increase in insurance charges. Although gender and the region were not critical factors, but they were taken into account with the smoking and number of children. They were studied in order to give the company the insight to know which people slip they need to focus on in the future."
   ]
  },
  {
   "cell_type": "markdown",
   "id": "ff0d6776",
   "metadata": {},
   "source": [
    "###### 1. Smoker people vs nonsmoker people:"
   ]
  },
  {
   "cell_type": "markdown",
   "id": "1ba0395c",
   "metadata": {},
   "source": [
    "The analysis was implemented on both male and female, it was found that the male smoker presents 58% of the overall smokers."
   ]
  },
  {
   "cell_type": "code",
   "execution_count": 112,
   "id": "2d4b037d",
   "metadata": {},
   "outputs": [
    {
     "data": {
      "image/png": "[encoded data removed]",
      "text/plain": [
       "<Figure size 720x720 with 2 Axes>"
      ]
     },
     "metadata": {},
     "output_type": "display_data"
    }
   ],
   "source": [
    "plt.rcParams['figure.figsize'] = [10, 10]\n",
    "fig = plt.figure()\n",
    "fig.suptitle(\"Smoker percentage with respect to gender\", fontsize=15)\n",
    "\n",
    "ax12 = plt.subplot2grid((2,2), (0,1))\n",
    "ax12.pie( data[data['sex']==0]['smoker'].value_counts(), labels = ['Nonsmoker','Smoker'], autopct='%1.1f%%',radius=12,textprops={'fontsize': 12})\n",
    "ax12.axis('equal')\n",
    "ax12.title.set_text(\"Female smoker percentage\")\n",
    "\n",
    "ax11 = plt.subplot2grid((2,2), (0,0))\n",
    "ax11.pie( data[data['sex']==1]['smoker'].value_counts(),labels = ['Nonsmoker','Smoker'],autopct='%1.1f%%', radius=12,textprops={'fontsize': 12})\n",
    "ax11.axis('equal')\n",
    "\n",
    "ax11.title.set_text(\"Male smoker percentage\")\n",
    "plt.show()"
   ]
  },
  {
   "cell_type": "code",
   "execution_count": 113,
   "id": "5e0fc460",
   "metadata": {},
   "outputs": [
    {
     "data": {
      "image/png": "[encoded data removed]",
      "text/plain": [
       "<Figure size 720x720 with 2 Axes>"
      ]
     },
     "metadata": {},
     "output_type": "display_data"
    }
   ],
   "source": [
    "plt.rcParams['figure.figsize'] = [10, 10]\n",
    "fig = plt.figure()\n",
    "fig.suptitle(\"Smoker percentage\", fontsize=15)\n",
    "\n",
    "ax12 = plt.subplot2grid((2,2), (0,0))\n",
    "ax12.pie( data['smoker'].value_counts(), labels = ['Nonsmoker','Smoker'], autopct='%1.1f%%',radius=1.5,textprops={'fontsize': 12})\n",
    "ax12.axis('equal')\n",
    "ax12.title.set_text(\"Smoker vs nonsmoker percentage\")\n",
    "ax12.axis('equal')\n",
    "\n",
    "ax11 = plt.subplot2grid((2,2), (0,1))\n",
    "ax11.pie( data[data['smoker']==1]['sex'].value_counts(),labels=['Male','Female'],autopct='%1.1f%%', radius=1.5,textprops={'fontsize': 12})\n",
    "ax11.axis('equal')\n",
    "\n",
    "ax11.title.set_text(\"Male vs Female smoker percentage\")\n",
    "plt.show()"
   ]
  },
  {
   "cell_type": "markdown",
   "id": "a2c952af",
   "metadata": {},
   "source": [
    "###### 2. Body Mass Index:"
   ]
  },
  {
   "cell_type": "markdown",
   "id": "f20a7a92",
   "metadata": {},
   "source": [
    "The BMI was an extremely important factor because it mainly increases the risk factor against disease and decreases the response to medicine (prognosis) and ultimately increases the insurance expenditure."
   ]
  },
  {
   "cell_type": "markdown",
   "id": "3a8194c4",
   "metadata": {},
   "source": [
    "To analyze the BMI factor, the BMI was categorise into four groups according to ['https://www.cdc.gov/obesity/basics/adult-defining.html']:\n",
    "\n",
    "If your BMI is less than 18.5, it falls within the underweight range.\n",
    "\n",
    "If your BMI is 18.5 to <25, it falls within the healthy weight range.\n",
    "\n",
    "If your BMI is 25.0 to <30, it falls within the overweight range.\n",
    "\n",
    "If your BMI is 30.0 or higher, it falls within the obesity range.\n",
    "\n",
    "Obesity is frequently subdivided into categories:\n",
    "\n",
    "Class 1: BMI of 30 to < 35\n",
    "\n",
    "Class 2: BMI of 35 to < 40\n",
    "\n",
    "Class 3: BMI of 40 or higher"
   ]
  },
  {
   "cell_type": "code",
   "execution_count": 122,
   "id": "40489c61",
   "metadata": {},
   "outputs": [
    {
     "name": "stdout",
     "output_type": "stream",
     "text": [
      "BMI is less than 18.5 cost:  18809.825999999997 $\n",
      "BMI is between 18.5 and 25 cost:  19942.223200000004 $\n",
      "BMI is between 25 and 30 cost:  22495.87405405406 $\n",
      "BMI is between 30 and 35 cost:  39889.67014285715 $\n",
      "BMI is between 35 and 40 cost:  42753.62279999998 $\n",
      "BMI is higher than 40 cost:  45467.78761904762 $\n"
     ]
    }
   ],
   "source": [
    "print('BMI is less than 18.5 cost: ',data[(data['bmi']<18.5) & (data['smoker']==1)]['charges'].mean(), '$')\n",
    "print('BMI is between 18.5 and 25 cost: ',data[(data['bmi']>18.5) & (dataset['bmi']<25) & (data['smoker']==1)]['charges'].mean(), '$')\n",
    "print('BMI is between 25 and 30 cost: ',data[(data['bmi']>25) & (dataset['bmi']<30) & (data['smoker']==1)]['charges'].mean(), '$')\n",
    "print('BMI is between 30 and 35 cost: ',data[(data['bmi']>30) & (dataset['bmi']<35) & (data['smoker']==1)]['charges'].mean(), '$')\n",
    "print('BMI is between 35 and 40 cost: ',data[(data['bmi']>35) & (dataset['bmi']<40) & (data['smoker']==1)]['charges'].mean(), '$')\n",
    "print('BMI is higher than 40 cost: ',data[(data['bmi']>40) &  (data['smoker']==1)]['charges'].mean(), '$')\n"
   ]
  },
  {
   "cell_type": "code",
   "execution_count": 131,
   "id": "714a49db",
   "metadata": {},
   "outputs": [
    {
     "name": "stdout",
     "output_type": "stream",
     "text": [
      "BMI is less than 18.5 cost:  5532.993333333333 $\n",
      "BMI is between 18.5 and 25 cost:  7616.209181286548 $\n",
      "BMI is between 25 and 30 cost:  8243.256419354844 $\n",
      "BMI is between 30 and 35 cost:  8540.598446601938 $\n",
      "BMI is between 35 and 40 cost:  9670.244137931035 $\n",
      "BMI is higher than 40 cost:  8179.664714285711 $\n"
     ]
    }
   ],
   "source": [
    "print('BMI is less than 18.5 cost: ',data[(data['bmi']<18.5) & (data['smoker']==0)]['charges'].mean(), '$')\n",
    "print('BMI is between 18.5 and 25 cost: ',data[(data['bmi']>18.5) & (dataset['bmi']<25) & (data['smoker']==0)]['charges'].mean(), '$')\n",
    "print('BMI is between 25 and 30 cost: ',data[(data['bmi']>25) & (dataset['bmi']<30) & (data['smoker']==0)]['charges'].mean(), '$')\n",
    "print('BMI is between 30 and 35 cost: ',data[(data['bmi']>30) & (dataset['bmi']<35) & (data['smoker']==0)]['charges'].mean(), '$')\n",
    "print('BMI is between 35 and 40 cost: ',data[(data['bmi']>35) & (dataset['bmi']<40) & (data['smoker']==0)]['charges'].mean(), '$')\n",
    "print('BMI is higher than 40 cost: ',data[(data['bmi']>40) &  (data['smoker']==0)]['charges'].mean(), '$')\n"
   ]
  },
  {
   "cell_type": "code",
   "execution_count": 189,
   "id": "62559f76",
   "metadata": {},
   "outputs": [
    {
     "data": {
      "image/png": "[encoded data removed]",
      "text/plain": [
       "<Figure size 576x576 with 1 Axes>"
      ]
     },
     "metadata": {
      "needs_background": "light"
     },
     "output_type": "display_data"
    }
   ],
   "source": [
    "plt.rcParams['figure.figsize'] = [8, 8]\n",
    "fig = plt.figure()\n",
    "X = [\"> than 18.5\",\"18.5-25 \",\" 25-30\",\"30-35\",'35-40','40<']\n",
    "Ysmoker = [18809.825999999997,19942.223200000004,22495.87405405406,39889.67014285715,42753.62279999998,45467.78761904762]\n",
    "Znonsmoker = [5532.993333333333,7616.209181286548,8243.256419354844,8540.598446601938,9670.244137931035,8179.664714285711]\n",
    "  \n",
    "X_axis = np.arange(len(X))\n",
    "  \n",
    "plt.bar(X_axis - 0.2, Ysmoker, 0.4, label = 'Smokers')\n",
    "plt.bar(X_axis + 0.2, Znonsmoker, 0.4, label = 'Nonsmokers')\n",
    "  \n",
    "plt.xticks(X_axis, X)\n",
    "plt.xlabel(\"Class of Obesity\")\n",
    "plt.ylabel(\"Number of Students\")\n",
    "plt.title(\"Charges of classes of obesity based on smoking\")\n",
    "plt.legend()\n",
    "plt.show()"
   ]
  },
  {
   "cell_type": "markdown",
   "id": "61e44ffb",
   "metadata": {},
   "source": [
    "###### 1.As seen from the above bar chart, it is clear that smokers significantly increase the charges in all classes, accordingly the remaining analysis focuses on these slips."
   ]
  },
  {
   "cell_type": "markdown",
   "id": "61a9b82a",
   "metadata": {},
   "source": [
    "###### 2. The bar chart illustrasts that pasients with BMI above 30 has the high charges values, which means that it is important to spot the light on these people."
   ]
  },
  {
   "cell_type": "markdown",
   "id": "45fbb813",
   "metadata": {},
   "source": [
    "###### 3.Smoker people with obesity with respect to gender:"
   ]
  },
  {
   "cell_type": "code",
   "execution_count": 167,
   "id": "7bdcab07",
   "metadata": {},
   "outputs": [
    {
     "data": {
      "image/png": "[encoded data removed]",
      "text/plain": [
       "<Figure size 360x360 with 1 Axes>"
      ]
     },
     "metadata": {},
     "output_type": "display_data"
    }
   ],
   "source": [
    "plt.rcParams['figure.figsize'] = [5, 5]\n",
    "fig = plt.figure()\n",
    "fig.suptitle(\"Smoker with obesity percentage \", fontsize=15)\n",
    "plt.pie( data[(data['bmi']>30) & (data['smoker']==1)]['sex'].value_counts(), labels = ['Male','Female'], autopct='%1.1f%%',radius=1.2,textprops={'fontsize': 12})\n",
    "plt.show()"
   ]
  },
  {
   "cell_type": "markdown",
   "id": "39caf161",
   "metadata": {},
   "source": [
    "###### The male present 64.3% of the obesity patients, accordingly it it importnat to check if this slip lead to increase the charges or not, by cheacking the mean chagrges for male and female:"
   ]
  },
  {
   "cell_type": "code",
   "execution_count": 190,
   "id": "3b77532e",
   "metadata": {},
   "outputs": [
    {
     "data": {
      "text/plain": [
       "42497.34803921568"
      ]
     },
     "execution_count": 190,
     "metadata": {},
     "output_type": "execute_result"
    }
   ],
   "source": [
    "data[(data['bmi']>30) & (data['smoker']==1) & (data['sex']==0)]['charges'].mean()"
   ]
  },
  {
   "cell_type": "code",
   "execution_count": 206,
   "id": "f2b8098b",
   "metadata": {},
   "outputs": [
    {
     "data": {
      "text/plain": [
       "41337.95934782609"
      ]
     },
     "execution_count": 206,
     "metadata": {},
     "output_type": "execute_result"
    }
   ],
   "source": [
    "data[(data['bmi']>30) & (data['smoker']==1) & (data['sex']==1)]['charges'].mean()"
   ]
  },
  {
   "cell_type": "code",
   "execution_count": 208,
   "id": "bd0153af",
   "metadata": {},
   "outputs": [
    {
     "data": {
      "image/png": "[encoded data removed]",
      "text/plain": [
       "<Figure size 576x576 with 1 Axes>"
      ]
     },
     "metadata": {
      "needs_background": "light"
     },
     "output_type": "display_data"
    }
   ],
   "source": [
    "x_axis = ['Male','Female']\n",
    "y_axis = [41337.95934782609, 42497.34803921568]\n",
    "\n",
    "plt.bar(x_axis, y_axis)\n",
    "plt.title('Male vs Female suffering from obesity and smoking')\n",
    "plt.xlabel('sex')\n",
    "plt.ylabel('Average charges')\n",
    "plt.show()"
   ]
  },
  {
   "cell_type": "markdown",
   "id": "1f9a71f0",
   "metadata": {},
   "source": [
    "###### It can be concluded that gender won't affect the results or lead to a significant change in the insurance cost although the notable difference between the percentage of males and females suffering from obesity and smoking."
   ]
  },
  {
   "cell_type": "markdown",
   "id": "33511321",
   "metadata": {},
   "source": [
    "###### 3.Number of children:"
   ]
  },
  {
   "cell_type": "code",
   "execution_count": 246,
   "id": "53b9a368",
   "metadata": {},
   "outputs": [
    {
     "data": {
      "image/png": "[encoded data removed]",
      "text/plain": [
       "<Figure size 576x576 with 1 Axes>"
      ]
     },
     "metadata": {
      "needs_background": "light"
     },
     "output_type": "display_data"
    }
   ],
   "source": [
    "x_axis = ['zero','one','two','three','four']\n",
    "y_axis=[data[(data['bmi']>30) & (data['smoker']==1) & (data['children']==i)]['charges'].mean() for i in range(5)]\n",
    "plt.bar(x_axis, y_axis)\n",
    "plt.title('Male vs Female suffering from obesity and smoking')\n",
    "plt.xlabel('sex')\n",
    "plt.ylabel('Average charges')\n",
    "plt.show()"
   ]
  },
  {
   "cell_type": "markdown",
   "id": "487d7813",
   "metadata": {},
   "source": [
    "As shown in the statistical analysis, number of children has slightly impact on increasing the insurance cost , but when tested in the differance was almost negligable."
   ]
  },
  {
   "cell_type": "markdown",
   "id": "552ce571",
   "metadata": {},
   "source": [
    "###### Lastly, based on the analysis, it can be concluded that the body mass index and the smoking only affected on increasing the insurance, it is also important to mention that the patient with BMI above 30 and smoking cost in average 41000 without taking any consideration regarding gender."
   ]
  },
  {
   "cell_type": "markdown",
   "id": "313c4011",
   "metadata": {},
   "source": [
    "# Machine learning part"
   ]
  },
  {
   "cell_type": "markdown",
   "id": "890e7f3e",
   "metadata": {},
   "source": [
    "Building model, linear regression model was selected initally as regression model to build the prediction model. "
   ]
  },
  {
   "cell_type": "markdown",
   "id": "d31a7eed",
   "metadata": {},
   "source": [
    "### step one: Split the data to dependent and independent:"
   ]
  },
  {
   "cell_type": "code",
   "execution_count": 269,
   "id": "9eb29068",
   "metadata": {},
   "outputs": [],
   "source": [
    "#Now split the data before continue:\n",
    "X=data.loc[:, data.columns != 'charges'].iloc[:,:].values # Independent variables  \n",
    "y=data.iloc[:,5].values #Dependent variables\n",
    "\n"
   ]
  },
  {
   "cell_type": "markdown",
   "id": "0179bcd1",
   "metadata": {},
   "source": [
    "### Step three: Apply the linear regression model:"
   ]
  },
  {
   "cell_type": "code",
   "execution_count": 274,
   "id": "aebf48a8",
   "metadata": {},
   "outputs": [],
   "source": [
    "X=np.append(arr=np.ones((1338,1)),values=X,axis=1) # Add the constant of the equation"
   ]
  },
  {
   "cell_type": "code",
   "execution_count": 275,
   "id": "b283a1ec",
   "metadata": {},
   "outputs": [
    {
     "data": {
      "text/html": [
       "<table class=\"simpletable\">\n",
       "<caption>OLS Regression Results</caption>\n",
       "<tr>\n",
       "  <th>Dep. Variable:</th>            <td>y</td>        <th>  R-squared:         </th> <td>   0.751</td> \n",
       "</tr>\n",
       "<tr>\n",
       "  <th>Model:</th>                   <td>OLS</td>       <th>  Adj. R-squared:    </th> <td>   0.750</td> \n",
       "</tr>\n",
       "<tr>\n",
       "  <th>Method:</th>             <td>Least Squares</td>  <th>  F-statistic:       </th> <td>   668.3</td> \n",
       "</tr>\n",
       "<tr>\n",
       "  <th>Date:</th>             <td>Wed, 25 Jan 2023</td> <th>  Prob (F-statistic):</th>  <td>  0.00</td>  \n",
       "</tr>\n",
       "<tr>\n",
       "  <th>Time:</th>                 <td>05:47:57</td>     <th>  Log-Likelihood:    </th> <td> -13548.</td> \n",
       "</tr>\n",
       "<tr>\n",
       "  <th>No. Observations:</th>      <td>  1338</td>      <th>  AIC:               </th> <td>2.711e+04</td>\n",
       "</tr>\n",
       "<tr>\n",
       "  <th>Df Residuals:</th>          <td>  1331</td>      <th>  BIC:               </th> <td>2.715e+04</td>\n",
       "</tr>\n",
       "<tr>\n",
       "  <th>Df Model:</th>              <td>     6</td>      <th>                     </th>     <td> </td>    \n",
       "</tr>\n",
       "<tr>\n",
       "  <th>Covariance Type:</th>      <td>nonrobust</td>    <th>                     </th>     <td> </td>    \n",
       "</tr>\n",
       "</table>\n",
       "<table class=\"simpletable\">\n",
       "<tr>\n",
       "    <td></td>       <th>coef</th>     <th>std err</th>      <th>t</th>      <th>P>|t|</th>  <th>[0.025</th>    <th>0.975]</th>  \n",
       "</tr>\n",
       "<tr>\n",
       "  <th>const</th> <td>-6084.1767</td> <td>  474.763</td> <td>  -12.815</td> <td> 0.000</td> <td>-7015.542</td> <td>-5152.811</td>\n",
       "</tr>\n",
       "<tr>\n",
       "  <th>x1</th>    <td>-6084.1767</td> <td>  474.763</td> <td>  -12.815</td> <td> 0.000</td> <td>-7015.542</td> <td>-5152.811</td>\n",
       "</tr>\n",
       "<tr>\n",
       "  <th>x2</th>    <td>  256.9892</td> <td>   11.889</td> <td>   21.616</td> <td> 0.000</td> <td>  233.666</td> <td>  280.312</td>\n",
       "</tr>\n",
       "<tr>\n",
       "  <th>x3</th>    <td>  338.7383</td> <td>   28.553</td> <td>   11.864</td> <td> 0.000</td> <td>  282.725</td> <td>  394.752</td>\n",
       "</tr>\n",
       "<tr>\n",
       "  <th>x4</th>    <td>  471.7334</td> <td>  137.651</td> <td>    3.427</td> <td> 0.001</td> <td>  201.696</td> <td>  741.771</td>\n",
       "</tr>\n",
       "<tr>\n",
       "  <th>x5</th>    <td> 2.384e+04</td> <td>  411.645</td> <td>   57.921</td> <td> 0.000</td> <td>  2.3e+04</td> <td> 2.47e+04</td>\n",
       "</tr>\n",
       "<tr>\n",
       "  <th>x6</th>    <td> -859.1326</td> <td>  415.199</td> <td>   -2.069</td> <td> 0.039</td> <td>-1673.647</td> <td>  -44.618</td>\n",
       "</tr>\n",
       "<tr>\n",
       "  <th>x7</th>    <td> -782.0894</td> <td>  413.737</td> <td>   -1.890</td> <td> 0.059</td> <td>-1593.736</td> <td>   29.558</td>\n",
       "</tr>\n",
       "</table>\n",
       "<table class=\"simpletable\">\n",
       "<tr>\n",
       "  <th>Omnibus:</th>       <td>300.260</td> <th>  Durbin-Watson:     </th> <td>   2.092</td> \n",
       "</tr>\n",
       "<tr>\n",
       "  <th>Prob(Omnibus):</th> <td> 0.000</td>  <th>  Jarque-Bera (JB):  </th> <td> 717.088</td> \n",
       "</tr>\n",
       "<tr>\n",
       "  <th>Skew:</th>          <td> 1.212</td>  <th>  Prob(JB):          </th> <td>1.93e-156</td>\n",
       "</tr>\n",
       "<tr>\n",
       "  <th>Kurtosis:</th>      <td> 5.644</td>  <th>  Cond. No.          </th> <td>1.23e+17</td> \n",
       "</tr>\n",
       "</table><br/><br/>Notes:<br/>[1] Standard Errors assume that the covariance matrix of the errors is correctly specified.<br/>[2] The smallest eigenvalue is 2.33e-28. This might indicate that there are<br/>strong multicollinearity problems or that the design matrix is singular."
      ],
      "text/plain": [
       "<class 'statsmodels.iolib.summary.Summary'>\n",
       "\"\"\"\n",
       "                            OLS Regression Results                            \n",
       "==============================================================================\n",
       "Dep. Variable:                      y   R-squared:                       0.751\n",
       "Model:                            OLS   Adj. R-squared:                  0.750\n",
       "Method:                 Least Squares   F-statistic:                     668.3\n",
       "Date:                Wed, 25 Jan 2023   Prob (F-statistic):               0.00\n",
       "Time:                        05:47:57   Log-Likelihood:                -13548.\n",
       "No. Observations:                1338   AIC:                         2.711e+04\n",
       "Df Residuals:                    1331   BIC:                         2.715e+04\n",
       "Df Model:                           6                                         \n",
       "Covariance Type:            nonrobust                                         \n",
       "==============================================================================\n",
       "                 coef    std err          t      P>|t|      [0.025      0.975]\n",
       "------------------------------------------------------------------------------\n",
       "const      -6084.1767    474.763    -12.815      0.000   -7015.542   -5152.811\n",
       "x1         -6084.1767    474.763    -12.815      0.000   -7015.542   -5152.811\n",
       "x2           256.9892     11.889     21.616      0.000     233.666     280.312\n",
       "x3           338.7383     28.553     11.864      0.000     282.725     394.752\n",
       "x4           471.7334    137.651      3.427      0.001     201.696     741.771\n",
       "x5          2.384e+04    411.645     57.921      0.000     2.3e+04    2.47e+04\n",
       "x6          -859.1326    415.199     -2.069      0.039   -1673.647     -44.618\n",
       "x7          -782.0894    413.737     -1.890      0.059   -1593.736      29.558\n",
       "==============================================================================\n",
       "Omnibus:                      300.260   Durbin-Watson:                   2.092\n",
       "Prob(Omnibus):                  0.000   Jarque-Bera (JB):              717.088\n",
       "Skew:                           1.212   Prob(JB):                    1.93e-156\n",
       "Kurtosis:                       5.644   Cond. No.                     1.23e+17\n",
       "==============================================================================\n",
       "\n",
       "Notes:\n",
       "[1] Standard Errors assume that the covariance matrix of the errors is correctly specified.\n",
       "[2] The smallest eigenvalue is 2.33e-28. This might indicate that there are\n",
       "strong multicollinearity problems or that the design matrix is singular.\n",
       "\"\"\""
      ]
     },
     "execution_count": 275,
     "metadata": {},
     "output_type": "execute_result"
    }
   ],
   "source": [
    "#Apply the feature selection using backward elemination\n",
    "def reg_ols(X,y):\n",
    "    columns=list(range(X.shape[1]))#it will do it just one time\n",
    "    a={}\n",
    "    for i in range(X.shape[1]):\n",
    "        X_opt=np.array(X[:,columns],dtype=float) #every time X_opt will change depend on the columns\n",
    "        regressor_ols=sm.OLS(endog=y,exog=X_opt).fit()#regressor between x_opt and y\n",
    "        pvalues = list(regressor_ols.pvalues)#save pvalues column as a list\n",
    "        d=max(pvalues)#find the maximum value in the list\n",
    "        if (d>0.06):#if the maximum value bigger than 0.09 then we need to drop the column\n",
    "            for k in range(len(pvalues)):#for loop to check the values in pvalues to find where is the max\n",
    "                if(pvalues[k] == d):#if the value of in the index = max the delete it\n",
    "                    a[k]=d\n",
    "                    del(columns[k])  \n",
    "    \n",
    "    return(X_opt,regressor_ols,a)\n",
    "\n",
    "X_opt,regressor_ols,a=reg_ols(X, y)\n",
    "regressor_ols.summary()"
   ]
  },
  {
   "cell_type": "markdown",
   "id": "ffe02d26",
   "metadata": {},
   "source": [
    "### Step two: Splet the data to train and test:"
   ]
  },
  {
   "cell_type": "code",
   "execution_count": 276,
   "id": "43ba5cdf",
   "metadata": {},
   "outputs": [],
   "source": [
    "#splitting the dataset\n",
    "from sklearn.model_selection import train_test_split\n",
    "X_opt_train,X_opt_test,y_opt_train,y_opt_test=train_test_split(X_opt,y,test_size=1/3,random_state=0)\n"
   ]
  },
  {
   "cell_type": "markdown",
   "id": "b511abeb",
   "metadata": {},
   "source": [
    "### Step three: Train the mode:"
   ]
  },
  {
   "cell_type": "code",
   "execution_count": 277,
   "id": "eed3358e",
   "metadata": {},
   "outputs": [],
   "source": [
    "linearRegression=LinearRegression()\n",
    "linearRegression.fit(X_opt_train,y_opt_train)\n",
    "\n",
    "y_opt_pred=linearRegression.predict(X_opt_test)\n"
   ]
  },
  {
   "cell_type": "markdown",
   "id": "825c8a6b",
   "metadata": {},
   "source": [
    "### Step four: Test the accuracy:"
   ]
  },
  {
   "cell_type": "code",
   "execution_count": 280,
   "id": "69989a16",
   "metadata": {},
   "outputs": [
    {
     "name": "stdout",
     "output_type": "stream",
     "text": [
      "Explain variance score = 78.8259452489119\n"
     ]
    }
   ],
   "source": [
    "print(\"Explain variance score =\", (acc.r2_score(y_opt_test,y_opt_pred)*100))"
   ]
  },
  {
   "cell_type": "markdown",
   "id": "38941300",
   "metadata": {},
   "source": [
    "### Step five: model enhancement using decision tree regression"
   ]
  },
  {
   "cell_type": "markdown",
   "id": "71058a20",
   "metadata": {},
   "source": [
    "Through the enhancement model , the forward selection and decision tree were selected as feature selection and regression moddel respectively"
   ]
  },
  {
   "cell_type": "code",
   "execution_count": 285,
   "id": "fff584c5",
   "metadata": {},
   "outputs": [],
   "source": [
    "X=data.loc[:, data.columns != 'charges'].iloc[:,:] # Independent variables  \n",
    "y=data.iloc[:,5] #Dependent variables"
   ]
  },
  {
   "cell_type": "code",
   "execution_count": 286,
   "id": "47c228b9",
   "metadata": {},
   "outputs": [],
   "source": [
    "# Greedy feuter selection  and model selection\n",
    "def forward_selection(data,target,significance_level=0.05):\n",
    "    initial_features=data.columns.tolist()\n",
    "    best_features2=[]\n",
    "    while (len(initial_features)>0):\n",
    "        remaining_features=list(set(initial_features)-set(best_features2))\n",
    "        new_pval=pd.Series(index=remaining_features)\n",
    "        for new_column in remaining_features:\n",
    "            model=sm.OLS(target,sm.add_constant(data[best_features2+[new_column]])).fit()\n",
    "            new_pval[new_column]=model.pvalues[new_column]\n",
    "        min_p_value=new_pval.min()\n",
    "        if (min_p_value<significance_level):\n",
    "            best_features2.append(new_pval.idxmin())\n",
    "        else:\n",
    "            break\n",
    "    return best_features2     \n",
    "\n",
    "best_features2=forward_selection(X, y)"
   ]
  },
  {
   "cell_type": "code",
   "execution_count": 287,
   "id": "9797074a",
   "metadata": {},
   "outputs": [
    {
     "data": {
      "text/plain": [
       "['smoker', 'age', 'bmi', 'children']"
      ]
     },
     "execution_count": 287,
     "metadata": {},
     "output_type": "execute_result"
    }
   ],
   "source": [
    "best_features2"
   ]
  },
  {
   "cell_type": "code",
   "execution_count": 295,
   "id": "cef26898",
   "metadata": {},
   "outputs": [],
   "source": [
    "X2=data.loc[:,best_features2]\n",
    "y= data['charges']"
   ]
  },
  {
   "cell_type": "code",
   "execution_count": 300,
   "id": "a378c270",
   "metadata": {},
   "outputs": [
    {
     "name": "stdout",
     "output_type": "stream",
     "text": [
      "Best parameters: {'max_depth': 4, 'min_samples_leaf': 4, 'min_samples_split': 2}\n"
     ]
    }
   ],
   "source": [
    "from sklearn.tree import DecisionTreeRegressor\n",
    "from sklearn.model_selection import GridSearchCV\n",
    "## DTreeRegression  \n",
    "X_train,X_test,y_train,y_test=train_test_split(X ,y, test_size=0.2 ,random_state=0)\n",
    "\n",
    "DTR=(DecisionTreeRegressor(random_state=0))\n",
    "param_grid = {'max_depth': [2, 4, 6, 8, 10],\n",
    "              'min_samples_split': [2, 4, 6, 8, 10],\n",
    "              'min_samples_leaf': [1, 2, 4]}\n",
    "grid_search = GridSearchCV(estimator=DTR, param_grid=param_grid, cv=5)\n",
    "grid_search.fit(X_train, y_train)\n",
    "print(f'Best parameters: {grid_search.best_params_}')"
   ]
  },
  {
   "cell_type": "code",
   "execution_count": 308,
   "id": "dc0f9c8c",
   "metadata": {},
   "outputs": [
    {
     "name": "stdout",
     "output_type": "stream",
     "text": [
      "Explain variance score = 89.13953640004728\n"
     ]
    }
   ],
   "source": [
    "dt_optimal = DecisionTreeRegressor(**grid_search.best_params_,random_state=0)\n",
    "dt_optimal.fit(X_train, y_train)\n",
    "y_pred = dt_optimal.predict(X_test)\n",
    "print(\"Explain variance score =\", (acc.r2_score(y_test,y_pred)*100))"
   ]
  },
  {
   "cell_type": "markdown",
   "id": "019678c9",
   "metadata": {},
   "source": [
    "## Conclusion "
   ]
  },
  {
   "cell_type": "markdown",
   "id": "8ead2eb9",
   "metadata": {},
   "source": [
    "###### To be concluded, the decision tree model provided better results of about 89.1% in comparision with the multiple linear regression, the feature selection said that the 'smoker', 'age', 'bmi', 'children' , are most likely to affect the cost of insurance while the region, and gender has no effect. For further recommendation , paitents with BMI higher than 30 and smoke are most likely to require further healthcare in the future and accordingly the cost of chareges will increase, however, it is still chalanging to provide accurate results without further nformation regarding the patient life stype and disease history. "
   ]
  },
  {
   "cell_type": "code",
   "execution_count": null,
   "id": "31a0f23e",
   "metadata": {},
   "outputs": [],
   "source": []
  }
 ],
 "metadata": {
  "kernelspec": {
   "display_name": "Python 3 (ipykernel)",
   "language": "python",
   "name": "python3"
  },
  "language_info": {
   "codemirror_mode": {
    "name": "ipython",
    "version": 3
   },
   "file_extension": ".py",
   "mimetype": "text/x-python",
   "name": "python",
   "nbconvert_exporter": "python",
   "pygments_lexer": "ipython3",
   "version": "3.9.12"
  }
 },
 "nbformat": 4,
 "nbformat_minor": 5
}
